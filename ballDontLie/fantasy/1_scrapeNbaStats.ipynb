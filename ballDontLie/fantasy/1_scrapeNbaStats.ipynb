{
 "cells": [
  {
   "cell_type": "markdown",
   "metadata": {},
   "source": [
    "# Step 1) Scraping NBA Stats\n",
    "I'm using [nba_api](https://github.com/swar/nba_api) to parse the nba stats website. \n",
    "While it'd be nice to put everything in one notebook, I've had to split the scraping step into a separate notebook.\n",
    "Too many and too frequent URL requests lead to connection errors and data limits/throttles (even with a sleep call).\n",
    "So, we'll parse the information we want and save it to a csv for future recall"
   ]
  },
  {
   "cell_type": "code",
   "execution_count": 3,
   "metadata": {},
   "outputs": [],
   "source": [
    "import time\n",
    "\n",
    "import numpy as np\n",
    "import pandas as pd\n",
    "import matplotlib\n",
    "%matplotlib inline\n",
    "import matplotlib.pyplot as plt\n",
    "\n",
    "import nba_api\n",
    "from nba_api.stats.static import teams, players\n",
    "from nba_api.stats.endpoints import shotchartdetail, playercareerstats, playergamelog\n",
    "\n",
    "import ballDontLie \n",
    "from ballDontLie.util.api_nba import *"
   ]
  },
  {
   "cell_type": "code",
   "execution_count": 21,
   "metadata": {},
   "outputs": [],
   "source": [
    "seasons_range = ['2018-19', '2017-18', '2016-17', '2015-16']\n",
    "players_range = ['Anthony Davis', 'James Harden', 'Stephen Curry', 'Giannis Antetokounmpo', 'Karl-Anthony Towns',\n",
    "                'Nikola Jokic', 'Joel Embiid', 'Paul George', 'Kawhi Leonard', 'Damian Lillard', 'Jimmy Butler',\n",
    "                'LeBron James', \"Bradley Beal\", 'Kyrie Irving', 'Nikola Vucevic', 'Kemba Walker', 'Devin Booker', \n",
    "                 'Rudy Gobert', 'Andre Drummond', 'Jrue Holiday', 'Russell Westbrook', 'Myles Turner']\n",
    "players_range = ['Mike Conley', 'DeMarcus Cousins', 'Tobias Harris', 'LaMarcus Aldridge', 'Draymond Green',\n",
    "                'Jaren Jackson Jr.', 'Robert Covington', 'Buddy Hield', 'Khris Middleton', 'Pascal Siakam',\n",
    "                'Kyle Lowry', 'Zach LaVine', 'Kevin Love', 'Danilo Gallinari', 'Luka Doncic', \"Ben Simmons\", \n",
    "                'DeMar DeRozan', 'Donovan Mitchell', 'De\\'Aaron Fox', 'Eric Bledsoe', 'D\\'Angelo Russell']\n",
    "players_range = ['Brook Lopez', 'Malcolm Brogdon', 'Jonas Valanciunas', 'Clint Capela', 'Bam Adebayo', \n",
    "                'Lauri Markkanen', 'Josh Richardson', 'CJ McCollum', 'Blake Griffin', 'Hassan Whiteside',\n",
    "                'Jayson Tatum']"
   ]
  },
  {
   "cell_type": "code",
   "execution_count": 22,
   "metadata": {},
   "outputs": [],
   "source": [
    "player_id_map = {a: find_player_id(a) for a in players_range}"
   ]
  },
  {
   "cell_type": "code",
   "execution_count": 23,
   "metadata": {},
   "outputs": [
    {
     "data": {
      "text/plain": [
       "{'Brook Lopez': [201572],\n",
       " 'Malcolm Brogdon': [1627763],\n",
       " 'Jonas Valanciunas': [202685],\n",
       " 'Clint Capela': [203991],\n",
       " 'Bam Adebayo': [1628389],\n",
       " 'Lauri Markkanen': [1628374],\n",
       " 'Josh Richardson': [1626196],\n",
       " 'CJ McCollum': [203468],\n",
       " 'Blake Griffin': [201933],\n",
       " 'Hassan Whiteside': [202355],\n",
       " 'Jayson Tatum': [1628369]}"
      ]
     },
     "execution_count": 23,
     "metadata": {},
     "output_type": "execute_result"
    }
   ],
   "source": [
    "player_id_map"
   ]
  },
  {
   "cell_type": "code",
   "execution_count": 24,
   "metadata": {},
   "outputs": [],
   "source": [
    "for player, player_id in player_id_map.items():\n",
    "    compiled_log = compile_player_gamelog(player_id, seasons_range)\n",
    "    compiled_log.to_csv(\"data/{}.csv\".format(player.replace(\" \",\"\")))\n",
    "    time.sleep(10)"
   ]
  },
  {
   "cell_type": "code",
   "execution_count": null,
   "metadata": {},
   "outputs": [],
   "source": []
  }
 ],
 "metadata": {
  "kernelspec": {
   "display_name": "Python 3",
   "language": "python",
   "name": "python3"
  },
  "language_info": {
   "codemirror_mode": {
    "name": "ipython",
    "version": 3
   },
   "file_extension": ".py",
   "mimetype": "text/x-python",
   "name": "python",
   "nbconvert_exporter": "python",
   "pygments_lexer": "ipython3",
   "version": "3.6.7"
  }
 },
 "nbformat": 4,
 "nbformat_minor": 2
}
