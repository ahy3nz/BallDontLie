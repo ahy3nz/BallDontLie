{
 "cells": [
  {
   "cell_type": "markdown",
   "metadata": {},
   "source": [
    "# Step 1) Scraping NBA Stats\n",
    "I'm using [nba_api](https://github.com/swar/nba_api) to parse the nba stats website. \n",
    "While it'd be nice to put everything in one notebook, I've had to split the scraping step into a separate notebook.\n",
    "Too many and too frequent URL requests lead to connection errors and data limits/throttles (even with a sleep call).\n",
    "So, we'll parse the information we want and save it to a csv for future recall"
   ]
  },
  {
   "cell_type": "code",
   "execution_count": 1,
   "metadata": {},
   "outputs": [],
   "source": [
    "import time\n",
    "\n",
    "import numpy as np\n",
    "import pandas as pd\n",
    "import matplotlib\n",
    "%matplotlib inline\n",
    "import matplotlib.pyplot as plt\n",
    "\n",
    "import nba_api\n",
    "from nba_api.stats.static import teams, players\n",
    "from nba_api.stats.endpoints import shotchartdetail, playercareerstats, playergamelog\n",
    "\n",
    "import ballDontLie \n",
    "from ballDontLie.util.api_nba import *"
   ]
  },
  {
   "cell_type": "code",
   "execution_count": 4,
   "metadata": {},
   "outputs": [],
   "source": [
    "seasons_range = ['2018-19', '2017-18', '2016-17', '2015-16']\n",
    "players_range = ['Anthony Davis', 'James Harden', 'Stephen Curry', 'Giannis Antetokounmpo', 'Karl-Anthony Towns',\n",
    "                'Nikola Jokic', 'Joel Embiid', 'Paul George', 'Kawhi Leonard', 'Damian Lillard', 'Jimmy Butler',\n",
    "                'LeBron James', \"Bradley Beal\"]"
   ]
  },
  {
   "cell_type": "code",
   "execution_count": 5,
   "metadata": {},
   "outputs": [],
   "source": [
    "player_id_map = {a: find_player_id(a) for a in players_range}"
   ]
  },
  {
   "cell_type": "code",
   "execution_count": 6,
   "metadata": {},
   "outputs": [
    {
     "data": {
      "text/plain": [
       "{'Anthony Davis': [203076],\n",
       " 'James Harden': [201935],\n",
       " 'Stephen Curry': [201939],\n",
       " 'Giannis Antetokounmpo': [203507],\n",
       " 'Karl-Anthony Towns': [1626157],\n",
       " 'Nikola Jokic': [203999],\n",
       " 'Joel Embiid': [203954],\n",
       " 'Paul George': [202331],\n",
       " 'Kawhi Leonard': [202695],\n",
       " 'Damian Lillard': [203081],\n",
       " 'Jimmy Butler': [202710],\n",
       " 'LeBron James': [2544],\n",
       " 'Bradley Beal': [203078]}"
      ]
     },
     "execution_count": 6,
     "metadata": {},
     "output_type": "execute_result"
    }
   ],
   "source": [
    "player_id_map"
   ]
  },
  {
   "cell_type": "code",
   "execution_count": 8,
   "metadata": {},
   "outputs": [],
   "source": [
    "for player, player_id in player_id_map.items():\n",
    "    compiled_log = compile_player_gamelog(player_id, seasons_range)\n",
    "    compiled_log.to_csv(\"data/{}.csv\".format(player.replace(\" \",\"\")))\n",
    "    time.sleep(10)"
   ]
  },
  {
   "cell_type": "code",
   "execution_count": null,
   "metadata": {},
   "outputs": [],
   "source": []
  }
 ],
 "metadata": {
  "kernelspec": {
   "display_name": "Python 3",
   "language": "python",
   "name": "python3"
  },
  "language_info": {
   "codemirror_mode": {
    "name": "ipython",
    "version": 3
   },
   "file_extension": ".py",
   "mimetype": "text/x-python",
   "name": "python",
   "nbconvert_exporter": "python",
   "pygments_lexer": "ipython3",
   "version": "3.6.7"
  }
 },
 "nbformat": 4,
 "nbformat_minor": 2
}
